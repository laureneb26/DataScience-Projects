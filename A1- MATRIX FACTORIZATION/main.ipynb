{
 "cells": [
  {
   "cell_type": "code",
   "execution_count": 1,
   "metadata": {},
   "outputs": [],
   "source": [
    "import BasicMF\n",
    "import NMF\n",
    "import DatasetGen\n",
    "import numpy as np\n",
    "import matplotlib.pyplot as plt\n",
    "import scipy.sparse\n",
    "import pandas as pd\n",
    "from sklearn.model_selection import train_test_split, KFold"
   ]
  },
  {
   "cell_type": "markdown",
   "metadata": {},
   "source": [
    "## Préparation du Dataset"
   ]
  },
  {
   "cell_type": "code",
   "execution_count": 2,
   "metadata": {},
   "outputs": [],
   "source": [
    "rating = pd.read_csv(r'data\\ml-latest-small\\ratings.csv')\n",
    "\n",
    "# Réindexation des id des films pour avoir des ids contigues\n",
    "movieid = rating['movieId'].unique()\n",
    "movie_index = {id:k for k, id in enumerate(movieid)}\n",
    "\n",
    "rating['movieId'] = rating['movieId'].apply(lambda x: movie_index[x])\n",
    "rating['userId'] -= 1"
   ]
  },
  {
   "cell_type": "code",
   "execution_count": 16,
   "metadata": {},
   "outputs": [
    {
     "name": "stdout",
     "output_type": "stream",
     "text": [
      "X\n",
      "[[   0    0]\n",
      " [   1    0]\n",
      " [   2    0]\n",
      " ...\n",
      " [3121  609]\n",
      " [1392  609]\n",
      " [2873  609]]\n",
      "y\n",
      "[4. 4. 4. ... 5. 5. 3.]\n"
     ]
    }
   ],
   "source": [
    "X = rating[['movieId', 'userId']].values\n",
    "y = rating['rating'].values\n",
    "\n",
    "print('X')\n",
    "print(X)\n",
    "print('y')\n",
    "print(y)"
   ]
  },
  {
   "cell_type": "code",
   "execution_count": 25,
   "metadata": {},
   "outputs": [],
   "source": [
    "X_train, X_test, y_train, y_test = train_test_split(X, y, test_size=0.20)"
   ]
  },
  {
   "cell_type": "markdown",
   "metadata": {},
   "source": [
    "## Entrainement de l'algorithme"
   ]
  },
  {
   "cell_type": "code",
   "execution_count": 26,
   "metadata": {},
   "outputs": [],
   "source": [
    "MF = BasicMF.BasicMF(k=5, l=0.001, m=0.001, max_iter=100, tol=500, solver='gd', learning_rate=1e-4)\n",
    "#MF = NMF.NMF(k=3, max_iter=100, solver='em', n_steps=1)"
   ]
  },
  {
   "cell_type": "code",
   "execution_count": 27,
   "metadata": {
    "scrolled": true
   },
   "outputs": [
    {
     "name": "stdout",
     "output_type": "stream",
     "text": [
      "Wall time: 48.7 s\n"
     ]
    },
    {
     "data": {
      "text/plain": [
       "BasicMF(k=5, l=0.001, learning_rate=0.0001, m=0.001, solver='gd', tol=500)"
      ]
     },
     "execution_count": 27,
     "metadata": {},
     "output_type": "execute_result"
    }
   ],
   "source": [
    "%%time\n",
    "MF.fit(X_train, y_train, shape=(9724, 610), val=(X_test, y_test))"
   ]
  },
  {
   "cell_type": "code",
   "execution_count": 28,
   "metadata": {},
   "outputs": [
    {
     "data": {
      "text/plain": [
       "<matplotlib.legend.Legend at 0x260cf418fd0>"
      ]
     },
     "execution_count": 28,
     "metadata": {},
     "output_type": "execute_result"
    },
    {
     "data": {
      "image/png": "[encoded data removed]",
      "text/plain": [
       "<Figure size 432x288 with 1 Axes>"
      ]
     },
     "metadata": {
      "needs_background": "light"
     },
     "output_type": "display_data"
    }
   ],
   "source": [
    "plt.plot(MF.history)\n",
    "plt.title('Entrainement de l\\'algorithme pour k='+str(3))\n",
    "plt.ylabel('RMSE')\n",
    "plt.xlabel('nbre itération')\n",
    "plt.legend(('Train','Test'))"
   ]
  },
  {
   "cell_type": "code",
   "execution_count": null,
   "metadata": {},
   "outputs": [],
   "source": [
    "#Estimation des performance à l'aide de cross-validation\n",
    "kf = KFold(n_splits=4, random_state=None, shuffle=True)\n",
    "for train_index, test_index in kf.split(X):\n",
    "    X_train, X_test = X[train_index], X[test_index]\n",
    "    R_train, R_test = y[train_index], y[test_index]\n",
    "    MF.fit(X_train, R_train, shape=(9724, 610))\n",
    "    print(np.sqrt(((R_test - MF.predict(X_test))**2).sum()/R_test.size))"
   ]
  },
  {
   "cell_type": "markdown",
   "metadata": {},
   "source": [
    "Résultats final sur l'ensemble de test"
   ]
  },
  {
   "cell_type": "code",
   "execution_count": null,
   "metadata": {},
   "outputs": [],
   "source": [
    "np.sqrt(((R_test - MF.predict(X_test))**2).sum()/R_test.size)"
   ]
  },
  {
   "cell_type": "code",
   "execution_count": null,
   "metadata": {},
   "outputs": [],
   "source": [
    "(np.abs(R_test - MF.predict(X_test)).sum()/R_test.size)"
   ]
  },
  {
   "cell_type": "markdown",
   "metadata": {},
   "source": [
    "### PCA pour afficher les facteurs latents"
   ]
  },
  {
   "cell_type": "code",
   "execution_count": null,
   "metadata": {
    "tags": []
   },
   "outputs": [],
   "source": [
    "from sklearn.decomposition import PCA\n",
    "import matplotlib.pyplot as plt\n",
    "\n",
    "\n",
    "I = MF.I\n",
    "\n",
    "pca = PCA(n_components=2)\n",
    "pca.fit(I)\n",
    "#Visu_I = I\n",
    "Visu_I = pca.transform(I)\n",
    "plt.figure(figsize=(10,10))\n",
    "plt.scatter(Visu_I[:, 0], Visu_I[:, 1], cmap='viridis', marker=\"o\")\n",
    "#print(pca.explained_variance_ratio_)\n",
    "#print(pca.singular_values_)"
   ]
  },
  {
   "cell_type": "markdown",
   "metadata": {},
   "source": [
    "### Recherche d'objet Similaire"
   ]
  },
  {
   "cell_type": "code",
   "execution_count": null,
   "metadata": {},
   "outputs": [],
   "source": [
    "import scipy.spatial\n",
    "import heapq\n",
    "\n",
    "movie = pd.read_csv(r'data\\ml-latest-small\\movies.csv')\n",
    "movie = movie.set_index('movieId')\n",
    "\n",
    "U = MF.U\n",
    "I = MF.I\n",
    "\n",
    "top = []\n",
    "for i in range(I.shape[0]):\n",
    "    top.append([scipy.spatial.distance.cosine(I[movie_index[1258]],I[i]), movie.loc[movieid[i]]])\n",
    "print(sorted(top,key=lambda x: x[0])[:30])#Les 30 film les plus proche"
   ]
  },
  {
   "cell_type": "markdown",
   "metadata": {},
   "source": [
    "### Graphes pour les hyperparamètres de la factorisation classiques"
   ]
  },
  {
   "cell_type": "code",
   "execution_count": null,
   "metadata": {},
   "outputs": [],
   "source": [
    "k_1 = [0.8921662650188509,\n",
    "0.8888643207334456,\n",
    "0.8827671973255237,\n",
    "0.8953808776236044]\n",
    "\n",
    "k_2 = [0.8695984882122897,\n",
    "0.8783306764700133,\n",
    "0.8739254029195798,\n",
    "0.8685254044340959]\n",
    "\n",
    "k_3 = [0.875646609183135,\n",
    "0.8701150839861634,\n",
    "0.8681791048733507,\n",
    "0.8728040229415565]\n",
    "\n",
    "k_4 = [0.8703069815879414,\n",
    "0.877909826697152,\n",
    "0.8750137811440928,\n",
    "0.8721157770830615]\n",
    "\n",
    "k_5 = [0.8761480680190616,\n",
    "0.8684320743873634,\n",
    "0.8721269854462634,\n",
    "0.8668695385577445]\n",
    "\n",
    "k_6 = [0.8740744694561137,\n",
    "0.874500484031747,\n",
    "0.8760333295114212,\n",
    "0.8780100419556606]\n",
    "\n",
    "k_7 = [0.8992813620539095,\n",
    "0.8935027451592281,\n",
    "0.8985000618072059,\n",
    "0.8888889995275248]\n",
    "\n",
    "K = np.array([k_1, k_2, k_3, k_4, k_5, k_6, k_7])\n",
    "m =np.mean(K, axis=1)\n",
    "err = \t2.32*np.std(K, axis=1)/np.sqrt(4)\n",
    "\n",
    "plt.errorbar(np.arange(1, 9), np.mean(K, axis=1), yerr=err, ecolor='Black')\n",
    "\n",
    "plt.xlabel('K')\n",
    "plt.ylabel('RMSE')"
   ]
  },
  {
   "cell_type": "markdown",
   "metadata": {},
   "source": [
    "## Interpretation de movie Lens  avec la NMF"
   ]
  },
  {
   "cell_type": "code",
   "execution_count": 65,
   "metadata": {},
   "outputs": [
    {
     "data": {
      "text/plain": [
       "NMF(k=3, solver='em')"
      ]
     },
     "execution_count": 65,
     "metadata": {},
     "output_type": "execute_result"
    }
   ],
   "source": [
    "MF = NMF.NMF(k=3, max_iter=100, solver='em', n_steps=1)\n",
    "MF.fit(X, y, shape=(9724, 610))"
   ]
  },
  {
   "cell_type": "code",
   "execution_count": 66,
   "metadata": {},
   "outputs": [
    {
     "name": "stderr",
     "output_type": "stream",
     "text": [
      "<ipython-input-66-98939792b753>:20: UserWarning: FixedFormatter should only be used together with FixedLocator\n",
      "  ax.set_xticklabels(genresL, rotation=80)\n"
     ]
    },
    {
     "data": {
      "text/plain": [
       "[Text(0, 0, 'Action'),\n",
       " Text(1, 0, 'Adventure'),\n",
       " Text(2, 0, 'Animation'),\n",
       " Text(3, 0, 'Children'),\n",
       " Text(4, 0, 'Comedy'),\n",
       " Text(5, 0, 'Crime'),\n",
       " Text(6, 0, 'Documentary'),\n",
       " Text(7, 0, 'Drama'),\n",
       " Text(8, 0, 'Fantasy'),\n",
       " Text(9, 0, 'Film-Noir'),\n",
       " Text(10, 0, 'Horror'),\n",
       " Text(11, 0, 'IMAX'),\n",
       " Text(12, 0, 'Musical'),\n",
       " Text(13, 0, 'Mystery'),\n",
       " Text(14, 0, 'Romance'),\n",
       " Text(15, 0, 'Sci-Fi'),\n",
       " Text(16, 0, 'Thriller'),\n",
       " Text(17, 0, 'War'),\n",
       " Text(18, 0, 'Western'),\n",
       " Text(19, 0, 'no genres listed')]"
      ]
     },
     "execution_count": 66,
     "metadata": {},
     "output_type": "execute_result"
    },
    {
     "data": {
      "image/png": "[encoded data removed]",
      "text/plain": [
       "<Figure size 432x288 with 1 Axes>"
      ]
     },
     "metadata": {
      "needs_background": "light"
     },
     "output_type": "display_data"
    }
   ],
   "source": [
    "movies_info = pd.read_csv(r'data\\ml-latest-small\\movies.csv')\n",
    "movies_info['movieId'] = movies_info['movieId'].apply(lambda x: movie_index[x] if x in movie_index else -1)\n",
    "movies_info\n",
    "\n",
    "# total of each genres in dataframe\n",
    "movies_genresT = {}\n",
    "for index, row in movies_info.iterrows():\n",
    "    if row[0]!=-1:\n",
    "        genres = row['genres'].replace('(','').replace(')','').split('|')\n",
    "        for genre in genres:\n",
    "            if genre in movies_genresT:\n",
    "                movies_genresT[genre] += 1\n",
    "            else:\n",
    "                movies_genresT[genre]=1\n",
    "genresL = list(movies_genresT.keys())\n",
    "genresL.sort()\n",
    "valuesG = [movies_genresT[key] for key in genresL]\n",
    "fig, ax = plt.subplots()\n",
    "ax.bar(genresL, valuesG)\n",
    "ax.set_xticklabels(genresL, rotation=80)"
   ]
  },
  {
   "cell_type": "code",
   "execution_count": 67,
   "metadata": {},
   "outputs": [
    {
     "data": {
      "text/html": [
       "<div>\n",
       "<style scoped>\n",
       "    .dataframe tbody tr th:only-of-type {\n",
       "        vertical-align: middle;\n",
       "    }\n",
       "\n",
       "    .dataframe tbody tr th {\n",
       "        vertical-align: top;\n",
       "    }\n",
       "\n",
       "    .dataframe thead th {\n",
       "        text-align: right;\n",
       "    }\n",
       "</style>\n",
       "<table border=\"1\" class=\"dataframe\">\n",
       "  <thead>\n",
       "    <tr style=\"text-align: right;\">\n",
       "      <th></th>\n",
       "      <th>0</th>\n",
       "      <th>1</th>\n",
       "      <th>2</th>\n",
       "    </tr>\n",
       "  </thead>\n",
       "  <tbody>\n",
       "    <tr>\n",
       "      <th>0</th>\n",
       "      <td>0.342504</td>\n",
       "      <td>1.626361</td>\n",
       "      <td>1.391957</td>\n",
       "    </tr>\n",
       "    <tr>\n",
       "      <th>1</th>\n",
       "      <td>1.022441</td>\n",
       "      <td>0.094571</td>\n",
       "      <td>6.753269</td>\n",
       "    </tr>\n",
       "    <tr>\n",
       "      <th>2</th>\n",
       "      <td>0.767054</td>\n",
       "      <td>1.890177</td>\n",
       "      <td>1.210901</td>\n",
       "    </tr>\n",
       "    <tr>\n",
       "      <th>3</th>\n",
       "      <td>0.000000</td>\n",
       "      <td>0.000000</td>\n",
       "      <td>0.000000</td>\n",
       "    </tr>\n",
       "    <tr>\n",
       "      <th>4</th>\n",
       "      <td>1.603770</td>\n",
       "      <td>1.014189</td>\n",
       "      <td>0.955989</td>\n",
       "    </tr>\n",
       "    <tr>\n",
       "      <th>...</th>\n",
       "      <td>...</td>\n",
       "      <td>...</td>\n",
       "      <td>...</td>\n",
       "    </tr>\n",
       "    <tr>\n",
       "      <th>9719</th>\n",
       "      <td>0.000000</td>\n",
       "      <td>0.000000</td>\n",
       "      <td>0.000000</td>\n",
       "    </tr>\n",
       "    <tr>\n",
       "      <th>9720</th>\n",
       "      <td>0.000000</td>\n",
       "      <td>0.000000</td>\n",
       "      <td>0.000000</td>\n",
       "    </tr>\n",
       "    <tr>\n",
       "      <th>9721</th>\n",
       "      <td>0.000000</td>\n",
       "      <td>0.000000</td>\n",
       "      <td>0.000000</td>\n",
       "    </tr>\n",
       "    <tr>\n",
       "      <th>9722</th>\n",
       "      <td>0.000000</td>\n",
       "      <td>0.000000</td>\n",
       "      <td>0.000000</td>\n",
       "    </tr>\n",
       "    <tr>\n",
       "      <th>9723</th>\n",
       "      <td>0.000000</td>\n",
       "      <td>0.000000</td>\n",
       "      <td>0.000000</td>\n",
       "    </tr>\n",
       "  </tbody>\n",
       "</table>\n",
       "<p>9724 rows × 3 columns</p>\n",
       "</div>"
      ],
      "text/plain": [
       "             0         1         2\n",
       "0     0.342504  1.626361  1.391957\n",
       "1     1.022441  0.094571  6.753269\n",
       "2     0.767054  1.890177  1.210901\n",
       "3     0.000000  0.000000  0.000000\n",
       "4     1.603770  1.014189  0.955989\n",
       "...        ...       ...       ...\n",
       "9719  0.000000  0.000000  0.000000\n",
       "9720  0.000000  0.000000  0.000000\n",
       "9721  0.000000  0.000000  0.000000\n",
       "9722  0.000000  0.000000  0.000000\n",
       "9723  0.000000  0.000000  0.000000\n",
       "\n",
       "[9724 rows x 3 columns]"
      ]
     },
     "execution_count": 67,
     "metadata": {},
     "output_type": "execute_result"
    }
   ],
   "source": [
    "U = MF.U\n",
    "df = pd.DataFrame(U)\n",
    "df"
   ]
  },
  {
   "cell_type": "code",
   "execution_count": 68,
   "metadata": {},
   "outputs": [
    {
     "name": "stdout",
     "output_type": "stream",
     "text": [
      "Group 1\n",
      "Group 2\n",
      "Group 3\n"
     ]
    },
    {
     "name": "stderr",
     "output_type": "stream",
     "text": [
      "<ipython-input-68-fd19b56f781b>:27: UserWarning: FixedFormatter should only be used together with FixedLocator\n",
      "  ax.set_xticklabels(genresL, rotation=80)\n",
      "<ipython-input-68-fd19b56f781b>:35: UserWarning: FixedFormatter should only be used together with FixedLocator\n",
      "  ax.set_xticklabels(datesL, rotation=60)\n"
     ]
    },
    {
     "data": {
      "image/png": "[encoded data removed]",
      "text/plain": [
       "<Figure size 432x288 with 1 Axes>"
      ]
     },
     "metadata": {
      "needs_background": "light"
     },
     "output_type": "display_data"
    },
    {
     "data": {
      "image/png": "[encoded data removed]",
      "text/plain": [
       "<Figure size 432x288 with 1 Axes>"
      ]
     },
     "metadata": {
      "needs_background": "light"
     },
     "output_type": "display_data"
    },
    {
     "data": {
      "image/png": "[encoded data removed]",
      "text/plain": [
       "<Figure size 432x288 with 1 Axes>"
      ]
     },
     "metadata": {
      "needs_background": "light"
     },
     "output_type": "display_data"
    },
    {
     "data": {
      "image/png": "[encoded data removed]",
      "text/plain": [
       "<Figure size 432x288 with 1 Axes>"
      ]
     },
     "metadata": {
      "needs_background": "light"
     },
     "output_type": "display_data"
    },
    {
     "data": {
      "image/png": "[encoded data removed]",
      "text/plain": [
       "<Figure size 432x288 with 1 Axes>"
      ]
     },
     "metadata": {
      "needs_background": "light"
     },
     "output_type": "display_data"
    },
    {
     "data": {
      "image/png": "[encoded data removed]",
      "text/plain": [
       "<Figure size 432x288 with 1 Axes>"
      ]
     },
     "metadata": {
      "needs_background": "light"
     },
     "output_type": "display_data"
    }
   ],
   "source": [
    "n_movies = 50 # nombre de films à prendre en compte pour chaque groupes\n",
    "\n",
    "for j in range(U.shape[1]):\n",
    "    print(\"Group \" + str(j+1))\n",
    "    movies_dates = {}\n",
    "    movies_genres = {}\n",
    "    df.sort_values(by=[j], ascending=False, inplace=True)\n",
    "    v = df.index[0:n_movies]\n",
    "    for k in range(n_movies):\n",
    "        date = movies_info.iloc[v[k]].loc['title'].replace(')','').split('(')[-1][:-1]+'0'\n",
    "        genres = movies_info.iloc[v[k]].loc['genres'].replace('(','').replace(')','').split('|')\n",
    "        if date in movies_dates:\n",
    "            movies_dates[date] += 1\n",
    "        else:\n",
    "            movies_dates[date]=1\n",
    "        for genre in genres:\n",
    "            if genre in movies_genres:\n",
    "                movies_genres[genre] += 1\n",
    "            else:\n",
    "                movies_genres[genre]=1\n",
    "    genresL = list(movies_genres.keys())\n",
    "    genresL.sort()\n",
    "    valuesG = [(movies_genres[key]*100)/movies_genresT[key] for key in genresL]\n",
    "    \n",
    "    fig, ax = plt.subplots()\n",
    "    ax.bar(genresL, valuesG)\n",
    "    ax.set_xticklabels(genresL, rotation=80)\n",
    "    \n",
    "    datesL = list(movies_dates.keys())\n",
    "    datesL.sort()\n",
    "    valuesD = [movies_dates[key] for key in datesL]\n",
    " \n",
    "    fig, ax = plt.subplots()\n",
    "    ax.bar(datesL, valuesD)\n",
    "    ax.set_xticklabels(datesL, rotation=60)"
   ]
  },
  {
   "cell_type": "markdown",
   "metadata": {},
   "source": [
    "## Dataset Synthétique"
   ]
  },
  {
   "cell_type": "code",
   "execution_count": 30,
   "metadata": {},
   "outputs": [
    {
     "name": "stderr",
     "output_type": "stream",
     "text": [
      "c:\\users\\juju_2\\appdata\\local\\programs\\python\\python38\\lib\\site-packages\\scipy\\sparse\\_index.py:126: SparseEfficiencyWarning: Changing the sparsity structure of a csr_matrix is expensive. lil_matrix is more efficient.\n",
      "  self._set_arrayXarray(i, j, x)\n"
     ]
    }
   ],
   "source": [
    "data = DatasetGen.DatasetGen(200, 50)\n",
    "matrix = data.gen_dataset(5, 500)"
   ]
  },
  {
   "cell_type": "code",
   "execution_count": 32,
   "metadata": {},
   "outputs": [],
   "source": [
    "l = matrix.tocoo()\n",
    "X = np.dstack((l.row, l.col))[0]\n",
    "y = l.data\n",
    "del l"
   ]
  },
  {
   "cell_type": "code",
   "execution_count": 33,
   "metadata": {},
   "outputs": [
    {
     "data": {
      "text/plain": [
       "[<matplotlib.lines.Line2D at 0x260cef44820>]"
      ]
     },
     "execution_count": 33,
     "metadata": {},
     "output_type": "execute_result"
    },
    {
     "data": {
      "image/png": "[encoded data removed]",
      "text/plain": [
       "<Figure size 432x288 with 1 Axes>"
      ]
     },
     "metadata": {
      "needs_background": "light"
     },
     "output_type": "display_data"
    }
   ],
   "source": [
    "MF = BasicMF.BasicMF(k=5, l=0.001, m=0.001, max_iter=200, tol=1, solver='gd', learning_rate=1e-4)\n",
    "MF.fit(X,y, shape=(200, 50))\n",
    "plt.plot(MF.history)"
   ]
  },
  {
   "cell_type": "code",
   "execution_count": 36,
   "metadata": {},
   "outputs": [
    {
     "name": "stdout",
     "output_type": "stream",
     "text": [
      "[2 3 1 0 0 0 4 2 1 0 1 4 3 1 1 2 4 0 1 1 1 0 3 1 0 2 2 3 3 4 1 0 1 4 4 4 3\n",
      " 4 0 1 2 3 4 3 2 1 0 1 3 2]\n"
     ]
    },
    {
     "data": {
      "image/png": "[encoded data removed]",
      "text/plain": [
       "<Figure size 720x720 with 1 Axes>"
      ]
     },
     "metadata": {
      "needs_background": "light"
     },
     "output_type": "display_data"
    }
   ],
   "source": [
    "from sklearn.decomposition import PCA\n",
    "\n",
    "U = MF.U\n",
    "I = MF.I\n",
    "\n",
    "pca = PCA(n_components=2)\n",
    "pca.fit(U)\n",
    "#Visu_I = I\n",
    "Visu_U = pca.transform(U)\n",
    "\n",
    "plt.figure(figsize=(10,10))\n",
    "plt.scatter(Visu_U[:, 0], Visu_U[:, 1], c=data.user_grp, cmap='viridis', marker=\"o\")\n",
    "#plt.scatter(U[:,0], U[:,1],  c=test.user_grp, cmap='viridis')\n",
    "print(data.user_grp)"
   ]
  },
  {
   "cell_type": "code",
   "execution_count": 38,
   "metadata": {},
   "outputs": [
    {
     "name": "stdout",
     "output_type": "stream",
     "text": [
      "[0.94053759 0.94053759 0.94053759 0.94053759 0.94053745] 2\n",
      "[0.58740255 0.58740255 0.58740255 0.58740258 0.58654354] 3\n",
      "[0.56072337 0.56072337 0.56072337 0.56072333 0.55986028] 1\n",
      "[0.45996694 0.45996694 0.45996694 0.45959367 0.45993628] 0\n",
      "[0.50778925 0.50778925 0.50778925 0.50778931 0.5071941 ] 0\n",
      "[0.52085571 0.52085571 0.52085571 0.52085571 0.52040423] 0\n",
      "[0.4793013  0.4793013  0.4793013  0.47930129 0.47967686] 4\n",
      "[0.52967854 0.52967854 0.52967854 0.52967853 0.52959365] 2\n",
      "[0.8278364  0.8278364  0.8278364  0.82783648 0.82783559] 1\n",
      "[0.78597353 0.78597353 0.78597353 0.78597353 0.7859719 ] 0\n",
      "[0.66654133 0.66654133 0.66654133 0.66654126 0.66546939] 1\n",
      "[0.46103177 0.46103177 0.46103177 0.46103171 0.45982638] 4\n",
      "[0.83462102 0.83462102 0.83462102 0.83462102 0.83436814] 3\n",
      "[0.59894556 0.59892845 0.59892845 0.59892844 0.59879849] 1\n",
      "[0.4083972  0.4083972  0.4083972  0.40839721 0.40671994] 1\n",
      "[0.42550034 0.42550034 0.42550034 0.42550034 0.4231541 ] 2\n",
      "[0.70474997 0.70474997 0.70474997 0.70474993 0.70415063] 4\n",
      "[0.88945113 0.88945113 0.88945113 0.88945114 0.88945083] 0\n",
      "[0.41399945 0.41399945 0.41399945 0.41399948 0.41231234] 1\n",
      "[0.78058936 0.78058936 0.78058936 0.78058936 0.78058836] 1\n",
      "[0.80422196 0.80422196 0.80422196 0.80422203 0.8039405 ] 1\n",
      "[0.65136951 0.65136951 0.65136951 0.65136952 0.65111202] 0\n",
      "[0.42509837 0.42509837 0.42509837 0.42509837 0.42547478] 3\n",
      "[0.6085107  0.6085107  0.6085107  0.60851069 0.60871546] 1\n",
      "[0.63765106 0.63765106 0.63765106 0.63765105 0.63685292] 0\n",
      "[0.63035062 0.63035062 0.63035062 0.63035052 0.63066336] 2\n",
      "[0.72993234 0.72993234 0.72993234 0.72993226 0.72968081] 2\n",
      "[0.94591634 0.94591634 0.94591634 0.94591634 0.94591734] 3\n",
      "[0.63304986 0.63304986 0.63304986 0.63304988 0.63248893] 3\n",
      "[0.60608216 0.60608216 0.60608216 0.60608212 0.60459732] 4\n",
      "[0.62328192 0.62328192 0.62328192 0.62328188 0.62266174] 1\n",
      "[0.49616136 0.49616136 0.49616136 0.49616139 0.49528411] 0\n",
      "[0.5355503  0.5355503  0.5355503  0.53555028 0.53419962] 1\n",
      "[0.88568335 0.88568335 0.88568335 0.88568335 0.88567998] 4\n",
      "[0.58901567 0.58901567 0.58901567 0.58901558 0.58803804] 4\n",
      "[0.49879634 0.49879634 0.49879634 0.498948   0.49658545] 4\n",
      "[0.45909816 0.45909816 0.45909816 0.45909814 0.45889698] 3\n",
      "[0.64727378 0.64727378 0.64727378 0.64727377 0.64727021] 4\n",
      "[0.62565343 0.62565343 0.62565343 0.62565347 0.62568427] 0\n",
      "[0.83061644 0.83061644 0.83061644 0.83061639 0.8300236 ] 1\n",
      "[1.00179561 1.00179561 1.00179561 1.00179561 1.00179559] 2\n",
      "[1.00229428 1.00229428 1.00229428 1.00229428 1.00229432] 3\n",
      "[0.92828484 0.92828484 0.92828484 0.92828486 0.92828479] 4\n",
      "[0.93281869 0.93281869 0.93281869 0.93281869 0.93281891] 3\n",
      "[0.9324957 0.9324957 0.9324957 0.9324957 0.9324954] 2\n",
      "[1.00635604 1.00635604 1.00635604 1.00635604 1.00635627] 1\n",
      "[1.00390652 1.00390652 1.00390652 1.00390652 1.00390652] 0\n",
      "[0.93995586 0.93995586 0.93995586 0.93995585 0.9399555 ] 1\n",
      "[0.9365371  0.9365371  0.9365371  0.9365371  0.93653552] 3\n",
      "[1.00359582 1.00359582 1.00359582 1.00359583 1.00359605] 2\n"
     ]
    }
   ],
   "source": [
    "#Affichage des lignes de la matrice U et de son groupe\n",
    "for u in range(U.shape[0]):\n",
    "    print(U[u], data.user_grp[u])"
   ]
  },
  {
   "cell_type": "code",
   "execution_count": 39,
   "metadata": {},
   "outputs": [],
   "source": [
    "#NMF\n",
    "MF = NMF.NMF(k=5, max_iter=25, solver='em', n_steps=1)"
   ]
  },
  {
   "cell_type": "code",
   "execution_count": 41,
   "metadata": {},
   "outputs": [
    {
     "data": {
      "text/plain": [
       "[<matplotlib.lines.Line2D at 0x260c8a15d00>]"
      ]
     },
     "execution_count": 41,
     "metadata": {},
     "output_type": "execute_result"
    },
    {
     "data": {
      "image/png": "[encoded data removed]",
      "text/plain": [
       "<Figure size 432x288 with 1 Axes>"
      ]
     },
     "metadata": {
      "needs_background": "light"
     },
     "output_type": "display_data"
    }
   ],
   "source": [
    "MF.fit(X,y, shape=(200, 50))\n",
    "plt.plot(MF.history)"
   ]
  },
  {
   "cell_type": "markdown",
   "metadata": {},
   "source": [
    "## finding groups with NMF"
   ]
  },
  {
   "cell_type": "code",
   "execution_count": 42,
   "metadata": {},
   "outputs": [],
   "source": [
    "def showInnitGroup(l, n_groups):\n",
    "    groups = [[] for k in range(n_groups)]\n",
    "    for i,ele in enumerate(l):\n",
    "        groups[ele].append(i)\n",
    "    for k in range(n_groups):\n",
    "        print('Group ' + str(k) + ' : ' + str(groups[k]))"
   ]
  },
  {
   "cell_type": "code",
   "execution_count": 43,
   "metadata": {},
   "outputs": [],
   "source": [
    "def findGroups(V):\n",
    "    groups = [[] for k in range(V.shape[0])]\n",
    "    df = pd.DataFrame(V)\n",
    "    for j in range(V.shape[1]):\n",
    "        ind = df[j].argmax()\n",
    "        #print(str(j)+'->'+str(ind))\n",
    "        groups[ind].append(j)\n",
    "    for k in range(V.shape[0]):\n",
    "        print('Group ' + str(k) + ' : ' + str(groups[k]))"
   ]
  },
  {
   "cell_type": "code",
   "execution_count": 44,
   "metadata": {},
   "outputs": [],
   "source": [
    "def valuesTM(M):\n",
    "    X=[]\n",
    "    y=[]\n",
    "    for i in range(M.shape[0]):\n",
    "        for j in range(M.shape[1]):\n",
    "            if M[i,j]!=0:\n",
    "                X.append([i,j])\n",
    "                y.append(M[i,j])\n",
    "    return X,y"
   ]
  },
  {
   "cell_type": "code",
   "execution_count": 46,
   "metadata": {},
   "outputs": [],
   "source": [
    "def randomMatrixInnit(shape):\n",
    "    a = np.ones(shape) - np.random.rand(shape[0],shape[1])\n",
    "    return a"
   ]
  },
  {
   "cell_type": "code",
   "execution_count": 49,
   "metadata": {},
   "outputs": [
    {
     "data": {
      "text/plain": [
       "NMF(k=5, n_steps=5, solver='em')"
      ]
     },
     "execution_count": 49,
     "metadata": {},
     "output_type": "execute_result"
    }
   ],
   "source": [
    "U = randomMatrixInnit((200,5))*2\n",
    "V = randomMatrixInnit((5,50))*2\n",
    "\n",
    "Xm, ym = valuesTM(matrix)\n",
    "\n",
    "MF = NMF.NMF(k=5, max_iter=100, solver='em', n_steps=5)\n",
    "MF.fit(np.array(Xm), np.array(ym), shape=(200, 50))"
   ]
  },
  {
   "cell_type": "code",
   "execution_count": 57,
   "metadata": {},
   "outputs": [
    {
     "name": "stdout",
     "output_type": "stream",
     "text": [
      "Group 0 : [3, 4, 5, 9, 17, 21, 24, 31, 38, 46]\n",
      "Group 1 : [2, 8, 10, 13, 14, 18, 19, 20, 23, 30, 32, 39, 45, 47]\n",
      "Group 2 : [0, 7, 15, 25, 26, 40, 44, 49]\n",
      "Group 3 : [1, 12, 22, 27, 28, 36, 41, 43, 48]\n",
      "Group 4 : [6, 11, 16, 29, 33, 34, 35, 37, 42]\n"
     ]
    }
   ],
   "source": [
    "showInnitGroup(data.user_grp,5)"
   ]
  },
  {
   "cell_type": "code",
   "execution_count": 56,
   "metadata": {},
   "outputs": [
    {
     "name": "stdout",
     "output_type": "stream",
     "text": [
      "Group 0 : [5, 7, 12, 17, 21, 25, 38]\n",
      "Group 1 : [0, 3, 8, 11, 14, 22, 30, 32, 37, 40, 42, 49]\n",
      "Group 2 : [1, 2, 6, 9, 13, 15, 16, 18, 19, 20, 23, 24, 28, 33, 35, 36, 41]\n",
      "Group 3 : [4, 29]\n",
      "Group 4 : [10, 26, 27, 31, 34, 39, 43, 44, 45, 46, 47, 48]\n"
     ]
    },
    {
     "name": "stderr",
     "output_type": "stream",
     "text": [
      "<ipython-input-43-88d6452ee8dd>:5: FutureWarning: \n",
      "The current behaviour of 'Series.argmax' is deprecated, use 'idxmax'\n",
      "instead.\n",
      "The behavior of 'argmax' will be corrected to return the positional\n",
      "maximum in the future. For now, use 'series.values.argmax' or\n",
      "'np.argmax(np.array(values))' to get the position of the maximum\n",
      "row.\n",
      "  ind = df[j].argmax()\n"
     ]
    }
   ],
   "source": [
    "findGroups(MF.V.T)"
   ]
  },
  {
   "cell_type": "code",
   "execution_count": null,
   "metadata": {},
   "outputs": [],
   "source": []
  }
 ],
 "metadata": {
  "kernelspec": {
   "display_name": "Python 3",
   "language": "python",
   "name": "python3"
  },
  "language_info": {
   "codemirror_mode": {
    "name": "ipython",
    "version": 3
   },
   "file_extension": ".py",
   "mimetype": "text/x-python",
   "name": "python",
   "nbconvert_exporter": "python",
   "pygments_lexer": "ipython3",
   "version": "3.8.1"
  }
 },
 "nbformat": 4,
 "nbformat_minor": 4
}
